{
 "cells": [
  {
   "cell_type": "markdown",
   "metadata": {},
   "source": [
    "Importación de librerías: Se importan las librerías pandas para manejar datos en formato de tablas y matplotlib.pyplot para crear gráficos"
   ]
  },
  {
   "cell_type": "code",
   "execution_count": null,
   "metadata": {},
   "outputs": [],
   "source": [
    "# Importo librerías\n",
    "import pandas as pd\n",
    "import matplotlib.pyplot as plt"
   ]
  },
  {
   "cell_type": "markdown",
   "metadata": {},
   "source": [
    "Lectura del archivo Excel: Se lee el archivo Excel llamado \"Status_Licencias.xlsx\" y se almacena en un DataFrame llamado df"
   ]
  },
  {
   "cell_type": "code",
   "execution_count": null,
   "metadata": {},
   "outputs": [],
   "source": [
    "# Leo el archivo Excel\n",
    "df = pd.read_excel(\"Status_Licencias.xlsx\")"
   ]
  },
  {
   "cell_type": "markdown",
   "metadata": {},
   "source": [
    "Limpieza de datos: Se reemplazan los valores NaN (valores faltantes) por 0 y los símbolos ✓ por 1. Esto facilita el conteo de licencias asignadas."
   ]
  },
  {
   "cell_type": "code",
   "execution_count": null,
   "metadata": {},
   "outputs": [],
   "source": [
    "# Reemplazar valores ✓ por 1 y NaN por 0 para hacer conteos\n",
    "df = df.fillna(0).replace(\"✔\", 1)"
   ]
  },
  {
   "cell_type": "markdown",
   "metadata": {},
   "source": [
    "Conteo de licencias: Se suman los valores de las columnas desde la tercera en adelante (iloc[:, 2:]), lo que da el número de usuarios que tienen cada licencia."
   ]
  },
  {
   "cell_type": "code",
   "execution_count": null,
   "metadata": {},
   "outputs": [],
   "source": [
    "# Contar cuántos usuarios tienen cada licencia\n",
    "licencias = df.iloc[:, 2:].sum()"
   ]
  },
  {
   "cell_type": "markdown",
   "metadata": {},
   "source": [
    "Total de licencias asignadas: Se suma el total de licencias asignadas a usuarios."
   ]
  },
  {
   "cell_type": "code",
   "execution_count": null,
   "metadata": {},
   "outputs": [],
   "source": [
    "# Calcular el total de licencias asignadas a usuarios\n",
    "total_licencias_asignadas = licencias.sum()  # Total de licencias asignadas a usuarios"
   ]
  },
  {
   "cell_type": "markdown",
   "metadata": {},
   "source": [
    "Impresión de conteos: Se imprimen los conteos de usuarios por licencia."
   ]
  },
  {
   "cell_type": "code",
   "execution_count": null,
   "metadata": {},
   "outputs": [],
   "source": [
    "# Mostrar los conteos por licencia\n",
    "print(licencias)"
   ]
  }
 ],
 "metadata": {
  "language_info": {
   "name": "python"
  }
 },
 "nbformat": 4,
 "nbformat_minor": 2
}

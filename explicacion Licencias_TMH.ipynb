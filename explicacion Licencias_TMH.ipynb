{
 "cells": [
  {
   "cell_type": "markdown",
   "metadata": {},
   "source": [
    "Importación de librerías: Se importan las librerías pandas para manejar datos en formato de tablas y matplotlib.pyplot para crear gráficos"
   ]
  },
  {
   "cell_type": "code",
   "execution_count": null,
   "metadata": {},
   "outputs": [],
   "source": [
    "# Importo librerías\n",
    "import pandas as pd\n",
    "import matplotlib.pyplot as plt"
   ]
  },
  {
   "cell_type": "markdown",
   "metadata": {},
   "source": [
    "Lectura del archivo Excel: Se lee el archivo Excel llamado \"Status_Licencias.xlsx\" y se almacena en un DataFrame llamado df"
   ]
  },
  {
   "cell_type": "code",
   "execution_count": null,
   "metadata": {},
   "outputs": [],
   "source": [
    "# Leo el archivo Excel\n",
    "df = pd.read_excel(\"Status_Licencias.xlsx\")"
   ]
  },
  {
   "cell_type": "markdown",
   "metadata": {},
   "source": [
    "Limpieza de datos: Se reemplazan los valores NaN (valores faltantes) por 0 y los símbolos ✓ por 1. Esto facilita el conteo de licencias asignadas.\n",
    "(Esto es util cuando tengo un arhivo con valores string, si no le asigno valores numericos como 0 o 1 no voy a poder realizar calculos)\n"
   ]
  },
  {
   "cell_type": "code",
   "execution_count": null,
   "metadata": {},
   "outputs": [],
   "source": [
    "# Reemplazar valores ✓ por 1 y NaN por 0 para hacer conteos\n",
    "df = df.fillna(0).replace(\"✔\", 1)"
   ]
  },
  {
   "cell_type": "markdown",
   "metadata": {},
   "source": [
    "Conteo de licencias: Se suman los valores de las columnas desde la tercera en adelante (iloc[:, 2:]), lo que da el número de usuarios que tienen cada licencia."
   ]
  },
  {
   "cell_type": "code",
   "execution_count": null,
   "metadata": {},
   "outputs": [],
   "source": [
    "# Contar cuántos usuarios tienen cada licencia\n",
    "licencias = df.iloc[:, 2:].sum()"
   ]
  },
  {
   "cell_type": "markdown",
   "metadata": {},
   "source": [
    "Total de licencias asignadas: Se suma el total de licencias asignadas a usuarios y se le asigna una nueva variable para guardar el resultado \"total_licencias_asignadas\""
   ]
  },
  {
   "cell_type": "code",
   "execution_count": null,
   "metadata": {},
   "outputs": [],
   "source": [
    "# Calcular el total de licencias asignadas a usuarios\n",
    "total_licencias_asignadas = licencias.sum()  # Total de licencias asignadas a usuarios"
   ]
  },
  {
   "cell_type": "markdown",
   "metadata": {},
   "source": [
    "Impresión de conteos: Se imprimen los conteos de usuarios por licencia."
   ]
  },
  {
   "cell_type": "code",
   "execution_count": null,
   "metadata": {},
   "outputs": [],
   "source": [
    "# Mostrar los conteos por licencia\n",
    "print(licencias)"
   ]
  },
  {
   "cell_type": "markdown",
   "metadata": {},
   "source": [
    "Creación del gráfico de barras: Se crea una figura de tamaño 10x6 pulgadas y se genera un gráfico de barras con los datos de licencias"
   ]
  },
  {
   "cell_type": "code",
   "execution_count": null,
   "metadata": {},
   "outputs": [],
   "source": [
    "# Crear el gráfico de barras\n",
    "plt.figure(figsize=(10, 6))\n",
    "ax = licencias.plot(kind=\"bar\", color=\"skyblue\")"
   ]
  },
  {
   "attachments": {
    "image.png": {
     "image/png": "[encoded data removed]"
    }
   },
   "cell_type": "markdown",
   "metadata": {},
   "source": [
    "Si ejecutara el codigo hasta aca, este seria el resultado:\n",
    "![image.png](attachment:image.png)"
   ]
  },
  {
   "cell_type": "markdown",
   "metadata": {},
   "source": [
    "Personalización del gráfico: Se añade un título, etiquetas para los ejes X e Y, se asegura que las etiquetas del eje X no estén rotadas y se añade una cuadrícula en el eje Y."
   ]
  },
  {
   "cell_type": "code",
   "execution_count": null,
   "metadata": {},
   "outputs": [],
   "source": [
    "# Personalizar el gráfico\n",
    "plt.title(\"Cantidad de Usuarios por Licencia\")\n",
    "plt.xlabel(\"Licencia\")\n",
    "plt.ylabel(\"Número de Usuarios\")\n",
    "plt.xticks(rotation=0)\n",
    "plt.grid(axis=\"y\", linestyle=\"--\", alpha=0.7)"
   ]
  },
  {
   "cell_type": "markdown",
   "metadata": {},
   "source": [
    "Texto sobre las barras: Se itera sobre los valores de las licencias y se coloca el número de usuarios por encima de cada barra."
   ]
  },
  {
   "cell_type": "code",
   "execution_count": null,
   "metadata": {},
   "outputs": [],
   "source": [
    "# Agregar el número de usuarios por encima de cada columna\n",
    "for i, v in enumerate(licencias):\n",
    "    ax.text(i, v + 0.1, str(v), ha='center', va='bottom')"
   ]
  },
  {
   "cell_type": "markdown",
   "metadata": {},
   "source": [
    "Nombres de usuarios dentro de las barras: Se itera sobre las columnas de licencias, se obtienen los nombres de los usuarios que tienen cada licencia y se colocan dentro de las barras, ajustando la posición vertical para evitar solapamientos."
   ]
  },
  {
   "cell_type": "code",
   "execution_count": null,
   "metadata": {},
   "outputs": [],
   "source": [
    "# Agregar nombres de usuarios dentro de cada columna, ajustando la posición vertical\n",
    "for i, col in enumerate(df.columns[2:]):\n",
    "    usuarios = df[df[col] == 1].iloc[:, 0].tolist()\n",
    "    usuarios_text = \"\\n\".join(usuarios)\n",
    "    # Ajustar la posición vertical en función del valor de la barra\n",
    "    posicion_vertical = licencias[i] * 0.2  # Ajusta este factor según sea necesario\n",
    "    ax.text(i, posicion_vertical, usuarios_text, ha='center', va='center', fontsize=8, color='black')"
   ]
  },
  {
   "cell_type": "markdown",
   "metadata": {},
   "source": [
    "Información adicional: Se añade un texto en la parte superior del gráfico con el total de licencias y la cantidad de licencias asignadas, utilizando un fondo blanco para mejorar la legibilidad."
   ]
  },
  {
   "cell_type": "code",
   "execution_count": null,
   "metadata": {},
   "outputs": [],
   "source": [
    "# Agregar información adicional en la parte superior del gráfico\n",
    "info_texto = f\"Total de Licecias : {20}\\nCantidad de Licencias Asignadas: {total_licencias_asignadas}\"\n",
    "plt.text(0.8, 0.9, info_texto, ha='center', va='bottom', transform=ax.transAxes, fontsize=10, bbox=dict(facecolor='white', alpha=0.8))"
   ]
  },
  {
   "cell_type": "markdown",
   "metadata": {},
   "source": [
    "Mostrar el gráfico: Se ajusta el layout para que todo el contenido quede bien organizado y se muestra el gráfico."
   ]
  },
  {
   "cell_type": "code",
   "execution_count": null,
   "metadata": {},
   "outputs": [],
   "source": [
    "# Mostrar el gráfico\n",
    "plt.tight_layout()\n",
    "plt.show()"
   ]
  },
  {
   "cell_type": "markdown",
   "metadata": {},
   "source": [
    "CODIGO COMPLETO"
   ]
  },
  {
   "cell_type": "code",
   "execution_count": null,
   "metadata": {},
   "outputs": [],
   "source": [
    "# Importo librerías\n",
    "import pandas as pd\n",
    "import matplotlib.pyplot as plt\n",
    "\n",
    "# Leo el archivo Excel\n",
    "df = pd.read_excel(\"Status_Licencias.xlsx\")\n",
    "\n",
    "# Reemplazar valores ✓ por 1 y NaN por 0 para hacer conteos\n",
    "df = df.fillna(0).replace(\"✔\", 1)\n",
    "\n",
    "# Contar cuántos usuarios tienen cada licencia\n",
    "licencias = df.iloc[:, 2:].sum()\n",
    "\n",
    "# Calcular el total de licencias asignadas a usuarios\n",
    "total_licencias_asignadas = licencias.sum()  # Total de licencias asignadas a usuarios\n",
    "\n",
    "# Mostrar los conteos por licencia\n",
    "print(licencias)\n",
    "\n",
    "# Crear el gráfico de barras\n",
    "plt.figure(figsize=(10, 6))\n",
    "ax = licencias.plot(kind=\"bar\", color=\"skyblue\")\n",
    "\n",
    "# Personalizar el gráfico\n",
    "plt.title(\"Cantidad de Usuarios por Licencia\")\n",
    "plt.xlabel(\"Licencia\")\n",
    "plt.ylabel(\"Número de Usuarios\")\n",
    "plt.xticks(rotation=0)\n",
    "plt.grid(axis=\"y\", linestyle=\"--\", alpha=0.7)\n",
    "\n",
    "# Agregar el número de usuarios por encima de cada columna\n",
    "for i, v in enumerate(licencias):\n",
    "    ax.text(i, v + 0.1, str(v), ha='center', va='bottom')\n",
    "\n",
    "# Agregar nombres de usuarios dentro de cada columna, ajustando la posición vertical\n",
    "for i, col in enumerate(df.columns[2:]):\n",
    "    usuarios = df[df[col] == 1].iloc[:, 0].tolist()\n",
    "    usuarios_text = \"\\n\".join(usuarios)\n",
    "    # Ajustar la posición vertical en función del valor de la barra\n",
    "    posicion_vertical = licencias[i] * 0.2  # Ajusta este factor según sea necesario\n",
    "    ax.text(i, posicion_vertical, usuarios_text, ha='center', va='center', fontsize=8, color='black')\n",
    "\n",
    "# Agregar información adicional en la parte superior del gráfico\n",
    "info_texto = f\"Total de Licecias : {20}\\nCantidad de Licencias Asignadas: {total_licencias_asignadas}\"\n",
    "plt.text(0.8, 0.9, info_texto, ha='center', va='bottom', transform=ax.transAxes, fontsize=10, bbox=dict(facecolor='white', alpha=0.8))\n",
    "\n",
    "# Mostrar el gráfico\n",
    "plt.tight_layout()\n",
    "plt.show()"
   ]
  }
 ],
 "metadata": {
  "language_info": {
   "name": "python"
  }
 },
 "nbformat": 4,
 "nbformat_minor": 2
}
